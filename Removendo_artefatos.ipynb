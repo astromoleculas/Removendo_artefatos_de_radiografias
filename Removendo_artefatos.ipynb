{
 "cells": [
  {
   "cell_type": "code",
   "execution_count": null,
   "id": "0665f5d2",
   "metadata": {},
   "outputs": [],
   "source": [
    "import numpy as np\n",
    "import cv2\n",
    "\n",
    "def filtro_media(imagem, janela_ref, diferenca_limite):\n",
    "    count = 0\n",
    "    \n",
    "    imagem_filtrada = imagem.copy()\n",
    "\n",
    "    for i in range(5, imagem.shape[0] - 5):\n",
    "        for j in range(5, imagem.shape[1] - 5):\n",
    "            janela_prin = imagem[i-3:i+4, j-3:j+4]\n",
    "            \n",
    "            def correlacao_ncc(janela_prin, janela_ref):\n",
    "                \n",
    "                if np.std(janela_prin) == 0:\n",
    "                    janela_prin_norm = 0\n",
    "                else:\n",
    "                    janela_prin_norm = (janela_prin - np.mean(janela_prin)) / np.std(janela_prin)\n",
    "                    \n",
    "                janela_ref_norm = (janela_ref - np.mean(janela_ref)) / np.std(janela_ref)\n",
    "                \n",
    "                denominador = np.sqrt(np.sum(janela_prin_norm**2) * np.sum(janela_ref_norm**2))\n",
    "                \n",
    "                if denominador == 0:\n",
    "                    ncc = 0\n",
    "                else:\n",
    "                    ncc = np.sum(janela_prin_norm * janela_ref_norm) / denominador\n",
    "                return ncc\n",
    "\n",
    "            ncc = correlacao_ncc(janela_prin, janela_ref)\n",
    "\n",
    "            if ncc > diferenca_limite:\n",
    "                count += 1\n",
    "\n",
    "                for a in range(-2, 3):\n",
    "                    for b in range(-2, 3):\n",
    "                        window2 = imagem[i-3+a:i+3+1+a, j-3+b:j+3+1+b]\n",
    "                        imagem_filtrada[i+a,j+b] = np.median(window2)\n",
    "\n",
    "    print('Artefatos removidos:',count)\n",
    "    return imagem_filtrada\n",
    "\n",
    "imagem = cv2.imread('exemplo.png', cv2.IMREAD_GRAYSCALE)\n",
    "\n",
    "janela_ref = np.array([[251, 252, 250, 255, 255, 251, 249],\n",
    "                       [246, 240, 233, 245, 248, 252, 253],\n",
    "                       [245, 224, 204, 203, 219, 239, 252],\n",
    "                       [245, 212, 180, 161, 188, 223, 248],\n",
    "                       [250, 232, 216, 197, 215, 237, 249],\n",
    "                       [255, 245, 237, 227, 238, 250, 255],\n",
    "                       [255, 254, 253, 249, 251, 253, 253]])\n",
    "\n",
    "diferenca_limite = 0.4\n",
    "\n",
    "imagem_processada = filtro_media(imagem, janela_ref, diferenca_limite)\n",
    "\n",
    "cv2.imwrite('imagem_processada.png', imagem_processada)"
   ]
  },
  {
   "cell_type": "code",
   "execution_count": null,
   "id": "5b26449c",
   "metadata": {},
   "outputs": [],
   "source": []
  }
 ],
 "metadata": {
  "kernelspec": {
   "display_name": "Python 3 (ipykernel)",
   "language": "python",
   "name": "python3"
  },
  "language_info": {
   "codemirror_mode": {
    "name": "ipython",
    "version": 3
   },
   "file_extension": ".py",
   "mimetype": "text/x-python",
   "name": "python",
   "nbconvert_exporter": "python",
   "pygments_lexer": "ipython3",
   "version": "3.11.5"
  }
 },
 "nbformat": 4,
 "nbformat_minor": 5
}
